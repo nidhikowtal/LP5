{
  "nbformat": 4,
  "nbformat_minor": 0,
  "metadata": {
    "colab": {
      "provenance": [],
      "gpuType": "T4"
    },
    "kernelspec": {
      "name": "python3",
      "display_name": "Python 3"
    },
    "language_info": {
      "name": "python"
    },
    "accelerator": "GPU",
    "gpuClass": "standard"
  },
  "cells": [
    {
      "cell_type": "code",
      "execution_count": 1,
      "metadata": {
        "colab": {
          "base_uri": "https://localhost:8080/"
        },
        "id": "YYHIz_P5ofzY",
        "outputId": "96f9da19-567e-4d18-8176-af2caab2997e"
      },
      "outputs": [
        {
          "output_type": "stream",
          "name": "stdout",
          "text": [
            "nvcc: NVIDIA (R) Cuda compiler driver\n",
            "Copyright (c) 2005-2022 NVIDIA Corporation\n",
            "Built on Wed_Sep_21_10:33:58_PDT_2022\n",
            "Cuda compilation tools, release 11.8, V11.8.89\n",
            "Build cuda_11.8.r11.8/compiler.31833905_0\n"
          ]
        }
      ],
      "source": [
        "!nvcc --version"
      ]
    },
    {
      "cell_type": "code",
      "source": [
        "!pip install git+https://github.com/andreinechaev/nvcc4jupyter.git"
      ],
      "metadata": {
        "colab": {
          "base_uri": "https://localhost:8080/"
        },
        "id": "DUd1clh_o4aP",
        "outputId": "738c73f5-d521-4ebe-bf63-e8d898ddfb2f"
      },
      "execution_count": 2,
      "outputs": [
        {
          "output_type": "stream",
          "name": "stdout",
          "text": [
            "Looking in indexes: https://pypi.org/simple, https://us-python.pkg.dev/colab-wheels/public/simple/\n",
            "Collecting git+https://github.com/andreinechaev/nvcc4jupyter.git\n",
            "  Cloning https://github.com/andreinechaev/nvcc4jupyter.git to /tmp/pip-req-build-uf_jdyud\n",
            "  Running command git clone --filter=blob:none --quiet https://github.com/andreinechaev/nvcc4jupyter.git /tmp/pip-req-build-uf_jdyud\n",
            "  Resolved https://github.com/andreinechaev/nvcc4jupyter.git to commit aac710a35f52bb78ab34d2e52517237941399eff\n",
            "  Preparing metadata (setup.py) ... \u001b[?25l\u001b[?25hdone\n",
            "Building wheels for collected packages: NVCCPlugin\n",
            "  Building wheel for NVCCPlugin (setup.py) ... \u001b[?25l\u001b[?25hdone\n",
            "  Created wheel for NVCCPlugin: filename=NVCCPlugin-0.0.2-py3-none-any.whl size=4287 sha256=e2c65c49c69ee5205fdc502ac2eeeb22812d02aa8024931359dcac23b96a501d\n",
            "  Stored in directory: /tmp/pip-ephem-wheel-cache-_3fwlqpm/wheels/a8/b9/18/23f8ef71ceb0f63297dd1903aedd067e6243a68ea756d6feea\n",
            "Successfully built NVCCPlugin\n",
            "Installing collected packages: NVCCPlugin\n",
            "Successfully installed NVCCPlugin-0.0.2\n"
          ]
        }
      ]
    },
    {
      "cell_type": "code",
      "source": [
        "%load_ext nvcc_plugin"
      ],
      "metadata": {
        "colab": {
          "base_uri": "https://localhost:8080/"
        },
        "id": "TTK7dYsUpLoS",
        "outputId": "4a8e52b7-7ef5-4ed6-fb01-7adb27a37fe8"
      },
      "execution_count": 3,
      "outputs": [
        {
          "output_type": "stream",
          "name": "stdout",
          "text": [
            "created output directory at /content/src\n",
            "Out bin /content/result.out\n"
          ]
        }
      ]
    },
    {
      "cell_type": "code",
      "source": [
        "%%cu\n",
        "#include<stdio.h>\n",
        "#include<cuda.h>\n",
        "__global__ void matadd(int *l,int *m, int *n)\n",
        "{\n",
        "    int x=blockIdx.x; //By using blockIdx.x, we can determine the position of the current block along the x-axis of the grid.\n",
        "    int y=blockIdx.y;\n",
        "    int id=gridDim.x * y +x;\n",
        "    n[id]=l[id]+m[id];\n",
        "}\n",
        "int main()\n",
        "{\n",
        "    int a[2][3];\n",
        "    int b[2][3];\n",
        "    int c[2][3];\n",
        "    int *d,*e,*f;\n",
        "    int i,j;\n",
        "    \n",
        "    for(i=0;i<2;i++)\n",
        "    {\n",
        "        for(j=0;j<3;j++)\n",
        "            {\n",
        "                a[i][j]=i+j;\n",
        "            }\n",
        "    }\n",
        "    \n",
        "        for(i=0;i<2;i++)\n",
        "        {\n",
        "            for(j=0;j<3;j++)\n",
        "                {\n",
        "                    b[i][j]=i+j;\n",
        "                }\n",
        "        }\n",
        "     // (void **)&d is used to pass the address of the pointer d to cudaMalloc. \n",
        "     // sizeof(int) gives the size of an integer in bytes. Multiplying it by 2 * 3 gives the total number of bytes required to store the matrix.\n",
        " \n",
        "    cudaMalloc((void **)&d,2*3*sizeof(int));  // responsible for allocating device memory on the GPU.\n",
        "    cudaMalloc((void **)&e,2*3*sizeof(int));\n",
        "    cudaMalloc((void **)&f,2*3*sizeof(int));\n",
        " \n",
        "    // When you allocate device memory using cudaMalloc, you are requesting a block of memory on the GPU with a specified size. \n",
        "    //This memory is used to store data that will be processed by the GPU kernels.\n",
        "    \n",
        " cudaMemcpy(d,a,2*3*sizeof(int),cudaMemcpyHostToDevice);\n",
        " cudaMemcpy(e,b,2*3*sizeof(int),cudaMemcpyHostToDevice);\n",
        "    \n",
        "dim3 grid(3,2);\n",
        "/* Here we are defining two dimensional Grid(collection of blocks) structure. Syntax is dim3 grid(no. of columns,no. of rows) */\n",
        "\n",
        "    matadd<<<grid,1>>>(d,e,f);\n",
        "\n",
        " cudaMemcpy(c,f,2*3*sizeof(int),cudaMemcpyDeviceToHost);\n",
        "    printf(\"\\nSum of two matrices:\\n \");\n",
        "    for(i=0;i<2;i++)\n",
        "    {\n",
        "        for(j=0;j<3;j++)\n",
        "        {\n",
        "              printf(\"%d\\t\",c[i][j]);\n",
        "        }\n",
        "        printf(\"\\n\");\n",
        "    }\n",
        "    cudaFree(d);\n",
        "    cudaFree(e);\n",
        "    cudaFree(f);\n",
        "    return 0;\n",
        "}\n"
      ],
      "metadata": {
        "colab": {
          "base_uri": "https://localhost:8080/"
        },
        "id": "XZrmcHarpc-d",
        "outputId": "a1553908-1651-4c7f-d65c-b7ca3003ae14"
      },
      "execution_count": 4,
      "outputs": [
        {
          "output_type": "stream",
          "name": "stdout",
          "text": [
            "\n",
            "Sum of two matrices:\n",
            " 0\t2\t4\t\n",
            "2\t4\t6\t\n",
            "\n"
          ]
        }
      ]
    },
    {
      "cell_type": "code",
      "source": [
        "%%cu\n",
        "#include<stdio.h>\n",
        "#include<cuda.h>\n",
        "\n",
        "\n",
        "__global__ void matproduct(int *l,int *m, int *n)\n",
        "{\n",
        "    int x=blockIdx.x;\n",
        "    int y=blockIdx.y;\n",
        "    int k;\n",
        "  \n",
        "n[2*y+x]=0;\n",
        "for(k=0;k<2;k++)\n",
        "   {\n",
        "    n[2*y+x]=n[2*y+x]+l[2*y+k]*m[2*k+x];\n",
        "   }\n",
        "}\n",
        "\n",
        "int main()\n",
        "{\n",
        "    int row1=2, col1=2, row2=2, col2=2;\n",
        "    int a[row1][col1];\n",
        "    int b[row2][col2];\n",
        "    int c[row1][col2];\n",
        "    int *d,*e,*f;\n",
        "    int i,j;\n",
        "\n",
        "    //printf(\"\\n Enter elements of first matrix of size 2*3\\n\");\n",
        "    for(i=0;i<2;i++)\n",
        "    {\n",
        "        for(j=0;j<2;j++)\n",
        "            {\n",
        "                a[i][j]=i+j;\n",
        "            }\n",
        "    }\n",
        " for(i=0;i<2;i++)\n",
        "    {\n",
        "        for(j=0;j<2;j++)\n",
        "        {\n",
        "              printf(\"%d\\t\",a[i][j]);\n",
        "        }\n",
        "        printf(\"\\n\");\n",
        "    }\n",
        "    //printf(\"\\n Enter elements of second matrix of size 3*2\\n\");\n",
        "        for(i=0;i<2;i++)\n",
        "        {\n",
        "            for(j=0;j<2;j++)\n",
        "                {\n",
        "                    b[i][j]=i+j;\n",
        "                }\n",
        "        }\n",
        " for(i=0;i<2;i++)\n",
        "    {\n",
        "        for(j=0;j<2;j++)\n",
        "        {\n",
        "              printf(\"%d\\t\",b[i][j]);\n",
        "        }\n",
        "        printf(\"\\n\");\n",
        "    }\n",
        "\n",
        "    cudaMalloc((void **)&d,row1*col1*sizeof(int));\n",
        "    cudaMalloc((void **)&e,row2*col2*sizeof(int));\n",
        "    cudaMalloc((void **)&f,row1*col2*sizeof(int));\n",
        "\n",
        " cudaMemcpy(d,a,row1*col1*sizeof(int),cudaMemcpyHostToDevice);\n",
        " cudaMemcpy(e,b,row2*col2*sizeof(int),cudaMemcpyHostToDevice);\n",
        "\n",
        "dim3 grid(col2,row1);\n",
        "/* Here we are defining two dimensional Grid(collection of blocks) structure. Syntax is dim3 grid(no. of columns,no. of rows) */\n",
        "\n",
        "    matproduct<<<grid,1>>>(d,e,f);\n",
        "\n",
        " cudaMemcpy(c,f,row1*col2*sizeof(int),cudaMemcpyDeviceToHost);\n",
        "    printf(\"\\nProduct of two matrices:\\n \");\n",
        "    for(i=0;i<2;i++)\n",
        "    {\n",
        "        for(j=0;j<2;j++)\n",
        "        {\n",
        "              printf(\"%d\\t\",c[i][j]);\n",
        "        }\n",
        "        printf(\"\\n\");\n",
        "    }\n",
        "\n",
        "    cudaFree(d);\n",
        "    cudaFree(e);\n",
        "    cudaFree(f);\n",
        "\n",
        "    return 0;\n",
        "}"
      ],
      "metadata": {
        "colab": {
          "base_uri": "https://localhost:8080/"
        },
        "id": "Njm7fY4mp2BM",
        "outputId": "2e5d3d5e-45ea-4f42-e6b0-6791bab351a4"
      },
      "execution_count": 5,
      "outputs": [
        {
          "output_type": "stream",
          "name": "stdout",
          "text": [
            "0\t1\t\n",
            "1\t2\t\n",
            "0\t1\t\n",
            "1\t2\t\n",
            "\n",
            "Product of two matrices:\n",
            " 1\t2\t\n",
            "2\t5\t\n",
            "\n"
          ]
        }
      ]
    },
    {
      "cell_type": "code",
      "source": [
        "%%cu\n",
        "#include<stdio.h>\n",
        "#include<cuda.h>\n",
        "\n",
        "__global__ void matproduct(int *l, int *m, int *n)\n",
        "{\n",
        "    int x = blockIdx.x; //blockIdx is a built-in variable in CUDA that represents the index of the current block within the grid.\n",
        "    int y = blockIdx.y;\n",
        "    int k;\n",
        "  \n",
        "    n[2*y+x] = 0;\n",
        "\n",
        "    // Perform matrix multiplication\n",
        "    for(k = 0; k < 2; k++)\n",
        "    {\n",
        "        n[2*y+x] = n[2*y+x] + l[2*y+k] * m[2*k+x];\n",
        "    }\n",
        "}\n",
        "\n",
        "int main()\n",
        "{\n",
        "    int row1 = 2, col1 = 2, row2 = 2, col2 = 2;\n",
        "    int a[row1][col1];\n",
        "    int b[row2][col2];\n",
        "    int c[row1][col2];\n",
        "    int *d, *e, *f;\n",
        "    int i, j;\n",
        "\n",
        "    // Initialize the first matrix\n",
        "    for(i = 0; i < 2; i++)\n",
        "    {\n",
        "        for(j = 0; j < 2; j++)\n",
        "        {\n",
        "            a[i][j] = i + j;\n",
        "        }\n",
        "    }\n",
        "\n",
        "    // Print the first matrix\n",
        "    for(i = 0; i < 2; i++)\n",
        "    {\n",
        "        for(j = 0; j < 2; j++)\n",
        "        {\n",
        "            printf(\"%d\\t\", a[i][j]);\n",
        "        }\n",
        "        printf(\"\\n\");\n",
        "    }\n",
        "\n",
        "    // Initialize the second matrix\n",
        "    for(i = 0; i < 2; i++)\n",
        "    {\n",
        "        for(j = 0; j < 2; j++)\n",
        "        {\n",
        "            b[i][j] = i + j;\n",
        "        }\n",
        "    }\n",
        "\n",
        "    // Print the second matrix\n",
        "    for(i = 0; i < 2; i++)\n",
        "    {\n",
        "        for(j = 0; j < 2; j++)\n",
        "        {\n",
        "            printf(\"%d\\t\", b[i][j]);\n",
        "        }\n",
        "        printf(\"\\n\");\n",
        "    }\n",
        "\n",
        "    // Allocate memory on the GPU\n",
        "    // cudaMalloc is used to allocate device memory for an integer array of size row1 * col1. The allocated memory is then stored in the variable d\n",
        "    cudaMalloc((void **)&d, row1 * col1 * sizeof(int));\n",
        "    cudaMalloc((void **)&e, row2 * col2 * sizeof(int));\n",
        "    cudaMalloc((void **)&f, row1 * col2 * sizeof(int));\n",
        "\n",
        "    // Copy matrices from host to device\n",
        "    //row1 * col1 * sizeof(int): The number of bytes to be copied, calculated based on the size of the data (row1 * col1) and the element size (sizeof(int)).\n",
        "    //cudaMemcpyHostToDevice: A flag specifying the direction of the memory transfer. In this case, it indicates that the data should be copied from the host (CPU) to the device (GPU).\n",
        "    cudaMemcpy(d, a, row1 * col1 * sizeof(int), cudaMemcpyHostToDevice);\n",
        "    cudaMemcpy(e, b, row2 * col2 * sizeof(int), cudaMemcpyHostToDevice);\n",
        "\n",
        "    dim3 grid(col2, row1);\n",
        "    /* Here we are defining a two-dimensional grid (a collection of blocks) structure. \n",
        "       Syntax is dim3 grid(no. of columns, no. of rows) */\n",
        "\n",
        "    // Launch the matrix multiplication kernel\n",
        "    matproduct<<<grid, 1>>>(d, e, f);\n",
        "\n",
        "    // Copy the result matrix from device to host\n",
        "    cudaMemcpy(c, f, row1 * col2 * sizeof(int), cudaMemcpyDeviceToHost);\n",
        "\n",
        "    // Print the resulting product matrix\n",
        "    printf(\"\\nProduct of two matrices:\\n \");\n",
        "    for(i = 0; i < 2; i++)\n",
        "    {\n",
        "        for(j = 0; j < 2; j++)\n",
        "        {\n",
        "              printf(\"%d\\t\", c[i][j]);\n",
        "        }\n",
        "        printf(\"\\n\");\n",
        "    }\n",
        "\n",
        "    // Free the allocated memory on the GPU\n",
        "    cudaFree(d);\n",
        "    cudaFree(e);\n",
        "    cudaFree(f);\n",
        "\n",
        "    return 0;\n",
        "}\n"
      ],
      "metadata": {
        "colab": {
          "base_uri": "https://localhost:8080/"
        },
        "id": "vY3C1Wc2p7ta",
        "outputId": "71a200b2-5e22-400e-d236-570d5a4804fd"
      },
      "execution_count": 6,
      "outputs": [
        {
          "output_type": "stream",
          "name": "stdout",
          "text": [
            "0\t1\t\n",
            "1\t2\t\n",
            "0\t1\t\n",
            "1\t2\t\n",
            "\n",
            "Product of two matrices:\n",
            " 1\t2\t\n",
            "2\t5\t\n",
            "\n"
          ]
        }
      ]
    },
    {
      "cell_type": "code",
      "source": [],
      "metadata": {
        "id": "NE_Ejxfot5GF"
      },
      "execution_count": null,
      "outputs": []
    }
  ]
}