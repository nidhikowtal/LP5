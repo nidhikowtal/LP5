{
 "cells": [
  {
   "cell_type": "code",
   "execution_count": 2,
   "id": "b40c8144",
   "metadata": {},
   "outputs": [],
   "source": [
    "from sklearn.datasets import fetch_california_housing"
   ]
  },
  {
   "cell_type": "code",
   "execution_count": 3,
   "id": "73868cc3",
   "metadata": {},
   "outputs": [],
   "source": [
    "from sklearn.model_selection import train_test_split\n",
    "\n",
    "boston=fetch_california_housing()\n",
    "\n",
    "x_train, x_test, y_train, y_test = train_test_split(boston.data, boston.target, test_size=0.2, random_state=42)"
   ]
  },
  {
   "cell_type": "code",
   "execution_count": 4,
   "id": "1426d57a",
   "metadata": {},
   "outputs": [],
   "source": [
    "from sklearn.preprocessing import StandardScaler\n",
    "\n",
    "scaler=StandardScaler()\n",
    "x_train=scaler.fit_transform(x_train)\n",
    "x_test=scaler.transform(x_test)"
   ]
  },
  {
   "cell_type": "code",
   "execution_count": 5,
   "id": "6a516340",
   "metadata": {},
   "outputs": [
    {
     "name": "stdout",
     "output_type": "stream",
     "text": [
      "Model: \"sequential_1\"\n",
      "_________________________________________________________________\n",
      " Layer (type)                Output Shape              Param #   \n",
      "=================================================================\n",
      " dense_1 (Dense)             (None, 1)                 9         \n",
      "                                                                 \n",
      "=================================================================\n",
      "Total params: 9\n",
      "Trainable params: 9\n",
      "Non-trainable params: 0\n",
      "_________________________________________________________________\n"
     ]
    }
   ],
   "source": [
    "import tensorflow as tf\n",
    "\n",
    "model=tf.keras.Sequential()\n",
    "model.add(tf.keras.layers.Dense(1, activation='linear', input_shape=(x_train.shape[1],)))\n",
    "\n",
    "model.compile(optimizer='adam', loss='mse')\n",
    "model.summary()"
   ]
  },
  {
   "cell_type": "code",
   "execution_count": 6,
   "id": "942e993b",
   "metadata": {},
   "outputs": [
    {
     "name": "stdout",
     "output_type": "stream",
     "text": [
      "Epoch 1/100\n",
      "516/516 [==============================] - 1s 1ms/step - loss: 6.1915 - val_loss: 4.4027\n",
      "Epoch 2/100\n",
      "516/516 [==============================] - 1s 1ms/step - loss: 3.6906 - val_loss: 2.5159\n",
      "Epoch 3/100\n",
      "516/516 [==============================] - 1s 1ms/step - loss: 2.2362 - val_loss: 1.4639\n",
      "Epoch 4/100\n",
      "516/516 [==============================] - 1s 1ms/step - loss: 1.4417 - val_loss: 0.9268\n",
      "Epoch 5/100\n",
      "516/516 [==============================] - 1s 1ms/step - loss: 1.0454 - val_loss: 0.6917\n",
      "Epoch 6/100\n",
      "516/516 [==============================] - 1s 1ms/step - loss: 0.8667 - val_loss: 0.6032\n",
      "Epoch 7/100\n",
      "516/516 [==============================] - 1s 1ms/step - loss: 0.7904 - val_loss: 0.5762\n",
      "Epoch 8/100\n",
      "516/516 [==============================] - 1s 1ms/step - loss: 0.7458 - val_loss: 0.5698\n",
      "Epoch 9/100\n",
      "516/516 [==============================] - 1s 1ms/step - loss: 0.7141 - val_loss: 0.5642\n",
      "Epoch 10/100\n",
      "516/516 [==============================] - 1s 1ms/step - loss: 0.6880 - val_loss: 0.5651\n",
      "Epoch 11/100\n",
      "516/516 [==============================] - 1s 1ms/step - loss: 0.6670 - val_loss: 0.5603\n",
      "Epoch 12/100\n",
      "516/516 [==============================] - 1s 1ms/step - loss: 0.6463 - val_loss: 0.5610\n",
      "Epoch 13/100\n",
      "516/516 [==============================] - 1s 1ms/step - loss: 0.6267 - val_loss: 0.5616\n",
      "Epoch 14/100\n",
      "516/516 [==============================] - 1s 1ms/step - loss: 0.6103 - val_loss: 0.5634\n",
      "Epoch 15/100\n",
      "516/516 [==============================] - 1s 1ms/step - loss: 0.5946 - val_loss: 0.5625\n",
      "Epoch 16/100\n",
      "516/516 [==============================] - 1s 1ms/step - loss: 0.5809 - val_loss: 0.5560\n",
      "Epoch 17/100\n",
      "516/516 [==============================] - 1s 1ms/step - loss: 0.5683 - val_loss: 0.5568\n",
      "Epoch 18/100\n",
      "516/516 [==============================] - 1s 1ms/step - loss: 0.5582 - val_loss: 0.5529\n",
      "Epoch 19/100\n",
      "516/516 [==============================] - 1s 1ms/step - loss: 0.5499 - val_loss: 0.5536\n",
      "Epoch 20/100\n",
      "516/516 [==============================] - 1s 1ms/step - loss: 0.5421 - val_loss: 0.5518\n",
      "Epoch 21/100\n",
      "516/516 [==============================] - 1s 1ms/step - loss: 0.5359 - val_loss: 0.5547\n",
      "Epoch 22/100\n",
      "516/516 [==============================] - 1s 1ms/step - loss: 0.5306 - val_loss: 0.5537\n",
      "Epoch 23/100\n",
      "516/516 [==============================] - 1s 1ms/step - loss: 0.5265 - val_loss: 0.5522\n",
      "Epoch 24/100\n",
      "516/516 [==============================] - 0s 940us/step - loss: 0.5235 - val_loss: 0.5554\n",
      "Epoch 25/100\n",
      "516/516 [==============================] - 1s 1ms/step - loss: 0.5214 - val_loss: 0.5565\n",
      "Epoch 26/100\n",
      "516/516 [==============================] - 1s 1ms/step - loss: 0.5202 - val_loss: 0.5536\n",
      "Epoch 27/100\n",
      "516/516 [==============================] - 1s 1ms/step - loss: 0.5196 - val_loss: 0.5596\n",
      "Epoch 28/100\n",
      "516/516 [==============================] - 1s 1ms/step - loss: 0.5189 - val_loss: 0.5529\n",
      "Epoch 29/100\n",
      "516/516 [==============================] - 1s 1ms/step - loss: 0.5190 - val_loss: 0.5522\n",
      "Epoch 30/100\n",
      "516/516 [==============================] - 1s 1ms/step - loss: 0.5192 - val_loss: 0.5559\n",
      "Epoch 31/100\n",
      "516/516 [==============================] - 1s 1ms/step - loss: 0.5192 - val_loss: 0.5564\n",
      "Epoch 32/100\n",
      "516/516 [==============================] - 1s 1ms/step - loss: 0.5191 - val_loss: 0.5601\n",
      "Epoch 33/100\n",
      "516/516 [==============================] - 1s 1ms/step - loss: 0.5192 - val_loss: 0.5587\n",
      "Epoch 34/100\n",
      "516/516 [==============================] - 1s 1ms/step - loss: 0.5191 - val_loss: 0.5525\n",
      "Epoch 35/100\n",
      "516/516 [==============================] - 1s 1ms/step - loss: 0.5192 - val_loss: 0.5530\n",
      "Epoch 36/100\n",
      "516/516 [==============================] - 1s 1ms/step - loss: 0.5192 - val_loss: 0.5566\n",
      "Epoch 37/100\n",
      "516/516 [==============================] - 1s 1ms/step - loss: 0.5194 - val_loss: 0.5518\n",
      "Epoch 38/100\n",
      "516/516 [==============================] - 1s 1ms/step - loss: 0.5192 - val_loss: 0.5541\n",
      "Epoch 39/100\n",
      "516/516 [==============================] - 1s 1ms/step - loss: 0.5191 - val_loss: 0.5600\n",
      "Epoch 40/100\n",
      "516/516 [==============================] - 1s 1ms/step - loss: 0.5195 - val_loss: 0.5513\n",
      "Epoch 41/100\n",
      "516/516 [==============================] - 1s 1ms/step - loss: 0.5193 - val_loss: 0.5571\n",
      "Epoch 42/100\n",
      "516/516 [==============================] - 1s 1ms/step - loss: 0.5192 - val_loss: 0.5598\n",
      "Epoch 43/100\n",
      "516/516 [==============================] - 1s 1ms/step - loss: 0.5195 - val_loss: 0.5557\n",
      "Epoch 44/100\n",
      "516/516 [==============================] - 1s 1ms/step - loss: 0.5192 - val_loss: 0.5598\n",
      "Epoch 45/100\n",
      "516/516 [==============================] - 1s 1ms/step - loss: 0.5192 - val_loss: 0.5578\n",
      "Epoch 46/100\n",
      "516/516 [==============================] - 1s 977us/step - loss: 0.5195 - val_loss: 0.5602\n",
      "Epoch 47/100\n",
      "516/516 [==============================] - 1s 1ms/step - loss: 0.5190 - val_loss: 0.5565\n",
      "Epoch 48/100\n",
      "516/516 [==============================] - 1s 1ms/step - loss: 0.5187 - val_loss: 0.5509\n",
      "Epoch 49/100\n",
      "516/516 [==============================] - 1s 1ms/step - loss: 0.5194 - val_loss: 0.5526\n",
      "Epoch 50/100\n",
      "516/516 [==============================] - 1s 1ms/step - loss: 0.5193 - val_loss: 0.5605\n",
      "Epoch 51/100\n",
      "516/516 [==============================] - 1s 1ms/step - loss: 0.5187 - val_loss: 0.5533\n",
      "Epoch 52/100\n",
      "516/516 [==============================] - 1s 1ms/step - loss: 0.5188 - val_loss: 0.5644\n",
      "Epoch 53/100\n",
      "516/516 [==============================] - 1s 1ms/step - loss: 0.5195 - val_loss: 0.5602\n",
      "Epoch 54/100\n",
      "516/516 [==============================] - 1s 1ms/step - loss: 0.5190 - val_loss: 0.5576\n",
      "Epoch 55/100\n",
      "516/516 [==============================] - 1s 1ms/step - loss: 0.5191 - val_loss: 0.5528\n",
      "Epoch 56/100\n",
      "516/516 [==============================] - 1s 1ms/step - loss: 0.5192 - val_loss: 0.5616\n",
      "Epoch 57/100\n",
      "516/516 [==============================] - 1s 1ms/step - loss: 0.5185 - val_loss: 0.5512\n",
      "Epoch 58/100\n",
      "516/516 [==============================] - 1s 1ms/step - loss: 0.5191 - val_loss: 0.5585\n",
      "Epoch 59/100\n",
      "516/516 [==============================] - 1s 1ms/step - loss: 0.5191 - val_loss: 0.5563\n",
      "Epoch 60/100\n",
      "516/516 [==============================] - 1s 1ms/step - loss: 0.5192 - val_loss: 0.5577\n",
      "Epoch 61/100\n",
      "516/516 [==============================] - 1s 1ms/step - loss: 0.5190 - val_loss: 0.5577\n",
      "Epoch 62/100\n",
      "516/516 [==============================] - 1s 1ms/step - loss: 0.5197 - val_loss: 0.5588\n",
      "Epoch 63/100\n",
      "516/516 [==============================] - 1s 1ms/step - loss: 0.5191 - val_loss: 0.5557\n",
      "Epoch 64/100\n",
      "516/516 [==============================] - 1s 1ms/step - loss: 0.5194 - val_loss: 0.5535\n",
      "Epoch 65/100\n",
      "516/516 [==============================] - 1s 1ms/step - loss: 0.5190 - val_loss: 0.5615\n",
      "Epoch 66/100\n",
      "516/516 [==============================] - 1s 1ms/step - loss: 0.5190 - val_loss: 0.5525\n",
      "Epoch 67/100\n",
      "516/516 [==============================] - 1s 1ms/step - loss: 0.5192 - val_loss: 0.5550\n",
      "Epoch 68/100\n",
      "516/516 [==============================] - 1s 1ms/step - loss: 0.5190 - val_loss: 0.5500\n",
      "Epoch 69/100\n",
      "516/516 [==============================] - 1s 1ms/step - loss: 0.5197 - val_loss: 0.5552\n",
      "Epoch 70/100\n",
      "516/516 [==============================] - 1s 1ms/step - loss: 0.5191 - val_loss: 0.5542\n",
      "Epoch 71/100\n",
      "516/516 [==============================] - 1s 1ms/step - loss: 0.5191 - val_loss: 0.5592\n",
      "Epoch 72/100\n",
      "516/516 [==============================] - 1s 1ms/step - loss: 0.5189 - val_loss: 0.5541\n",
      "Epoch 73/100\n",
      "516/516 [==============================] - 1s 980us/step - loss: 0.5192 - val_loss: 0.5563\n",
      "Epoch 74/100\n",
      "516/516 [==============================] - 1s 973us/step - loss: 0.5190 - val_loss: 0.5625\n",
      "Epoch 75/100\n",
      "516/516 [==============================] - 1s 1ms/step - loss: 0.5191 - val_loss: 0.5606\n",
      "Epoch 76/100\n",
      "516/516 [==============================] - 1s 1ms/step - loss: 0.5193 - val_loss: 0.5568\n",
      "Epoch 77/100\n",
      "516/516 [==============================] - 1s 1ms/step - loss: 0.5192 - val_loss: 0.5538\n",
      "Epoch 78/100\n",
      "516/516 [==============================] - 1s 1ms/step - loss: 0.5193 - val_loss: 0.5547\n",
      "Epoch 79/100\n",
      "516/516 [==============================] - 1s 1ms/step - loss: 0.5193 - val_loss: 0.5613\n",
      "Epoch 80/100\n",
      "516/516 [==============================] - 1s 1ms/step - loss: 0.5188 - val_loss: 0.5532\n",
      "Epoch 81/100\n",
      "516/516 [==============================] - 1s 1ms/step - loss: 0.5194 - val_loss: 0.5568\n",
      "Epoch 82/100\n",
      "516/516 [==============================] - 1s 1ms/step - loss: 0.5190 - val_loss: 0.5627\n",
      "Epoch 83/100\n",
      "516/516 [==============================] - 1s 1ms/step - loss: 0.5190 - val_loss: 0.5607\n",
      "Epoch 84/100\n",
      "516/516 [==============================] - 1s 1ms/step - loss: 0.5203 - val_loss: 0.5576\n",
      "Epoch 85/100\n",
      "516/516 [==============================] - 1s 1ms/step - loss: 0.5192 - val_loss: 0.5599\n",
      "Epoch 86/100\n",
      "516/516 [==============================] - 1s 1ms/step - loss: 0.5194 - val_loss: 0.5588\n",
      "Epoch 87/100\n",
      "516/516 [==============================] - 1s 1ms/step - loss: 0.5194 - val_loss: 0.5563\n",
      "Epoch 88/100\n",
      "516/516 [==============================] - 1s 1ms/step - loss: 0.5192 - val_loss: 0.5553\n",
      "Epoch 89/100\n",
      "516/516 [==============================] - 0s 958us/step - loss: 0.5192 - val_loss: 0.5588\n",
      "Epoch 90/100\n",
      "516/516 [==============================] - 1s 1ms/step - loss: 0.5192 - val_loss: 0.5537\n",
      "Epoch 91/100\n",
      "516/516 [==============================] - 1s 1ms/step - loss: 0.5189 - val_loss: 0.5512\n",
      "Epoch 92/100\n",
      "516/516 [==============================] - 1s 1ms/step - loss: 0.5194 - val_loss: 0.5554\n",
      "Epoch 93/100\n",
      "516/516 [==============================] - 1s 1ms/step - loss: 0.5192 - val_loss: 0.5541\n",
      "Epoch 94/100\n",
      "516/516 [==============================] - 1s 1ms/step - loss: 0.5192 - val_loss: 0.5542\n",
      "Epoch 95/100\n",
      "516/516 [==============================] - 1s 1ms/step - loss: 0.5192 - val_loss: 0.5569\n",
      "Epoch 96/100\n",
      "516/516 [==============================] - 1s 985us/step - loss: 0.5192 - val_loss: 0.5558\n",
      "Epoch 97/100\n",
      "516/516 [==============================] - 1s 1ms/step - loss: 0.5189 - val_loss: 0.5588\n",
      "Epoch 98/100\n",
      "516/516 [==============================] - 1s 1ms/step - loss: 0.5190 - val_loss: 0.5595\n",
      "Epoch 99/100\n",
      "516/516 [==============================] - 1s 1ms/step - loss: 0.5189 - val_loss: 0.5599\n",
      "Epoch 100/100\n",
      "516/516 [==============================] - 1s 1ms/step - loss: 0.5193 - val_loss: 0.5592\n"
     ]
    },
    {
     "data": {
      "text/plain": [
       "<keras.callbacks.History at 0x1b20a9f38b0>"
      ]
     },
     "execution_count": 6,
     "metadata": {},
     "output_type": "execute_result"
    }
   ],
   "source": [
    "model.fit(x_train,y_train,epochs=100, batch_size=32, validation_data=(x_test, y_test))"
   ]
  },
  {
   "cell_type": "code",
   "execution_count": 7,
   "id": "ff876abb",
   "metadata": {},
   "outputs": [
    {
     "name": "stdout",
     "output_type": "stream",
     "text": [
      "129/129 [==============================] - 0s 670us/step\n"
     ]
    },
    {
     "data": {
      "text/plain": [
       "[<matplotlib.lines.Line2D at 0x1b20aaa66b0>]"
      ]
     },
     "execution_count": 7,
     "metadata": {},
     "output_type": "execute_result"
    },
    {
     "data": {
      "image/png": "[encoded data removed]",
      "text/plain": [
       "<Figure size 640x480 with 1 Axes>"
      ]
     },
     "metadata": {},
     "output_type": "display_data"
    }
   ],
   "source": [
    "y_pred=model.predict(x_test)\n",
    "\n",
    "import matplotlib.pyplot as plt\n",
    "\n",
    "plt.scatter(y_test, y_pred)\n",
    "plt.plot([y_test.min(), y_test.max()], [y_test.min(), y_test.max()], color='r')"
   ]
  },
  {
   "cell_type": "code",
   "execution_count": null,
   "id": "7f30203c",
   "metadata": {},
   "outputs": [],
   "source": []
  }
 ],
 "metadata": {
  "kernelspec": {
   "display_name": "Python 3 (ipykernel)",
   "language": "python",
   "name": "python3"
  },
  "language_info": {
   "codemirror_mode": {
    "name": "ipython",
    "version": 3
   },
   "file_extension": ".py",
   "mimetype": "text/x-python",
   "name": "python",
   "nbconvert_exporter": "python",
   "pygments_lexer": "ipython3",
   "version": "3.10.8"
  }
 },
 "nbformat": 4,
 "nbformat_minor": 5
}
